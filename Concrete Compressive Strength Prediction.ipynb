{
 "cells": [
  {
   "cell_type": "markdown",
   "id": "f1698650",
   "metadata": {},
   "source": [
    "## Importing libraries"
   ]
  },
  {
   "cell_type": "code",
   "execution_count": 1,
   "id": "bb615dc9",
   "metadata": {},
   "outputs": [],
   "source": [
    "import numpy as np\n",
    "import pandas as pd\n",
    "import statsmodels.api as sm\n",
    "import matplotlib.pyplot as plt\n",
    "from sklearn.linear_model import LinearRegression\n",
    "from sklearn.ensemble import RandomForestRegressor\n",
    "import seaborn as sns\n",
    "import xgboost as xg\n",
    "sns.set()\n",
    "from sklearn.model_selection import train_test_split\n",
    "import logging"
   ]
  },
  {
   "cell_type": "code",
   "execution_count": 2,
   "id": "e9a65046",
   "metadata": {},
   "outputs": [],
   "source": [
    "logging.basicConfig(filename='development_logs.txt',\n",
    "                    filemode='a',\n",
    "                    format='%(asctime)s %(message)s',\n",
    "                    datefmt=\"%Y-%m-%d %H:%M:%S\")"
   ]
  },
  {
   "cell_type": "markdown",
   "id": "f11b2d66",
   "metadata": {},
   "source": [
    "## Read and analyse data"
   ]
  },
  {
   "cell_type": "code",
   "execution_count": 3,
   "id": "5f41cca3",
   "metadata": {},
   "outputs": [
    {
     "name": "stderr",
     "output_type": "stream",
     "text": [
      "Reading Dataset...\n"
     ]
    }
   ],
   "source": [
    "logging.warning(\"Reading Dataset...\")"
   ]
  },
  {
   "cell_type": "code",
   "execution_count": 4,
   "id": "06f83dd2",
   "metadata": {},
   "outputs": [],
   "source": [
    "raw_data = pd.read_csv('concrete_data.csv')\n",
    "data = raw_data"
   ]
  },
  {
   "cell_type": "code",
   "execution_count": 5,
   "id": "23a6b8da",
   "metadata": {},
   "outputs": [
    {
     "name": "stderr",
     "output_type": "stream",
     "text": [
      "Successfully completed\n"
     ]
    }
   ],
   "source": [
    "logging.warning(\"Successfully completed\")"
   ]
  },
  {
   "cell_type": "code",
   "execution_count": 6,
   "id": "e6ec6dd4",
   "metadata": {},
   "outputs": [
    {
     "data": {
      "text/html": [
       "<div><div id=f54f4bec-2880-4adf-8d3b-8b4549042589 style=\"display:none; background-color:#9D6CFF; color:white; width:200px; height:30px; padding-left:5px; border-radius:4px; flex-direction:row; justify-content:space-around; align-items:center;\" onmouseover=\"this.style.backgroundColor='#BA9BF8'\" onmouseout=\"this.style.backgroundColor='#9D6CFF'\" onclick=\"window.commands?.execute('create-mitosheet-from-dataframe-output');\">See Full Dataframe in Mito</div> <script> if (window.commands.hasCommand('create-mitosheet-from-dataframe-output')) document.getElementById('f54f4bec-2880-4adf-8d3b-8b4549042589').style.display = 'flex' </script> <table border=\"1\" class=\"dataframe\">\n",
       "  <thead>\n",
       "    <tr style=\"text-align: right;\">\n",
       "      <th></th>\n",
       "      <th>cement</th>\n",
       "      <th>blast_furnace_slag</th>\n",
       "      <th>fly_ash</th>\n",
       "      <th>water</th>\n",
       "      <th>superplasticizer</th>\n",
       "      <th>coarse_aggregate</th>\n",
       "      <th>fine_aggregate</th>\n",
       "      <th>age</th>\n",
       "      <th>concrete_compressive_strength</th>\n",
       "    </tr>\n",
       "  </thead>\n",
       "  <tbody>\n",
       "    <tr>\n",
       "      <th>0</th>\n",
       "      <td>540.0</td>\n",
       "      <td>0.0</td>\n",
       "      <td>0.0</td>\n",
       "      <td>162.0</td>\n",
       "      <td>2.5</td>\n",
       "      <td>1040.0</td>\n",
       "      <td>676.0</td>\n",
       "      <td>28</td>\n",
       "      <td>79.99</td>\n",
       "    </tr>\n",
       "    <tr>\n",
       "      <th>1</th>\n",
       "      <td>540.0</td>\n",
       "      <td>0.0</td>\n",
       "      <td>0.0</td>\n",
       "      <td>162.0</td>\n",
       "      <td>2.5</td>\n",
       "      <td>1055.0</td>\n",
       "      <td>676.0</td>\n",
       "      <td>28</td>\n",
       "      <td>61.89</td>\n",
       "    </tr>\n",
       "    <tr>\n",
       "      <th>2</th>\n",
       "      <td>332.5</td>\n",
       "      <td>142.5</td>\n",
       "      <td>0.0</td>\n",
       "      <td>228.0</td>\n",
       "      <td>0.0</td>\n",
       "      <td>932.0</td>\n",
       "      <td>594.0</td>\n",
       "      <td>270</td>\n",
       "      <td>40.27</td>\n",
       "    </tr>\n",
       "    <tr>\n",
       "      <th>3</th>\n",
       "      <td>332.5</td>\n",
       "      <td>142.5</td>\n",
       "      <td>0.0</td>\n",
       "      <td>228.0</td>\n",
       "      <td>0.0</td>\n",
       "      <td>932.0</td>\n",
       "      <td>594.0</td>\n",
       "      <td>365</td>\n",
       "      <td>41.05</td>\n",
       "    </tr>\n",
       "    <tr>\n",
       "      <th>4</th>\n",
       "      <td>198.6</td>\n",
       "      <td>132.4</td>\n",
       "      <td>0.0</td>\n",
       "      <td>192.0</td>\n",
       "      <td>0.0</td>\n",
       "      <td>978.4</td>\n",
       "      <td>825.5</td>\n",
       "      <td>360</td>\n",
       "      <td>44.30</td>\n",
       "    </tr>\n",
       "    <tr>\n",
       "      <th>5</th>\n",
       "      <td>266.0</td>\n",
       "      <td>114.0</td>\n",
       "      <td>0.0</td>\n",
       "      <td>228.0</td>\n",
       "      <td>0.0</td>\n",
       "      <td>932.0</td>\n",
       "      <td>670.0</td>\n",
       "      <td>90</td>\n",
       "      <td>47.03</td>\n",
       "    </tr>\n",
       "    <tr>\n",
       "      <th>6</th>\n",
       "      <td>380.0</td>\n",
       "      <td>95.0</td>\n",
       "      <td>0.0</td>\n",
       "      <td>228.0</td>\n",
       "      <td>0.0</td>\n",
       "      <td>932.0</td>\n",
       "      <td>594.0</td>\n",
       "      <td>365</td>\n",
       "      <td>43.70</td>\n",
       "    </tr>\n",
       "    <tr>\n",
       "      <th>7</th>\n",
       "      <td>380.0</td>\n",
       "      <td>95.0</td>\n",
       "      <td>0.0</td>\n",
       "      <td>228.0</td>\n",
       "      <td>0.0</td>\n",
       "      <td>932.0</td>\n",
       "      <td>594.0</td>\n",
       "      <td>28</td>\n",
       "      <td>36.45</td>\n",
       "    </tr>\n",
       "    <tr>\n",
       "      <th>8</th>\n",
       "      <td>266.0</td>\n",
       "      <td>114.0</td>\n",
       "      <td>0.0</td>\n",
       "      <td>228.0</td>\n",
       "      <td>0.0</td>\n",
       "      <td>932.0</td>\n",
       "      <td>670.0</td>\n",
       "      <td>28</td>\n",
       "      <td>45.85</td>\n",
       "    </tr>\n",
       "    <tr>\n",
       "      <th>9</th>\n",
       "      <td>475.0</td>\n",
       "      <td>0.0</td>\n",
       "      <td>0.0</td>\n",
       "      <td>228.0</td>\n",
       "      <td>0.0</td>\n",
       "      <td>932.0</td>\n",
       "      <td>594.0</td>\n",
       "      <td>28</td>\n",
       "      <td>39.29</td>\n",
       "    </tr>\n",
       "  </tbody>\n",
       "</table></div>"
      ],
      "text/plain": [
       "   cement  blast_furnace_slag  fly_ash  water  superplasticizer  \\\n",
       "0   540.0                 0.0      0.0  162.0               2.5   \n",
       "1   540.0                 0.0      0.0  162.0               2.5   \n",
       "2   332.5               142.5      0.0  228.0               0.0   \n",
       "3   332.5               142.5      0.0  228.0               0.0   \n",
       "4   198.6               132.4      0.0  192.0               0.0   \n",
       "5   266.0               114.0      0.0  228.0               0.0   \n",
       "6   380.0                95.0      0.0  228.0               0.0   \n",
       "7   380.0                95.0      0.0  228.0               0.0   \n",
       "8   266.0               114.0      0.0  228.0               0.0   \n",
       "9   475.0                 0.0      0.0  228.0               0.0   \n",
       "\n",
       "   coarse_aggregate  fine_aggregate   age  concrete_compressive_strength  \n",
       "0            1040.0            676.0   28                          79.99  \n",
       "1            1055.0            676.0   28                          61.89  \n",
       "2             932.0            594.0  270                          40.27  \n",
       "3             932.0            594.0  365                          41.05  \n",
       "4             978.4            825.5  360                          44.30  \n",
       "5             932.0            670.0   90                          47.03  \n",
       "6             932.0            594.0  365                          43.70  \n",
       "7             932.0            594.0   28                          36.45  \n",
       "8             932.0            670.0   28                          45.85  \n",
       "9             932.0            594.0   28                          39.29  "
      ]
     },
     "execution_count": 6,
     "metadata": {},
     "output_type": "execute_result"
    }
   ],
   "source": [
    "data.head(10)\n"
   ]
  },
  {
   "cell_type": "code",
   "execution_count": 7,
   "id": "2075a5ef",
   "metadata": {
    "scrolled": true
   },
   "outputs": [
    {
     "data": {
      "text/plain": [
       "(1030, 9)"
      ]
     },
     "execution_count": 7,
     "metadata": {},
     "output_type": "execute_result"
    }
   ],
   "source": [
    "data.shape\n"
   ]
  },
  {
   "cell_type": "code",
   "execution_count": 8,
   "id": "fde1e251",
   "metadata": {},
   "outputs": [
    {
     "name": "stderr",
     "output_type": "stream",
     "text": [
      "Raw data shape: (1030,9)\n"
     ]
    }
   ],
   "source": [
    "logging.warning(\"Raw data shape: (1030,9)\")"
   ]
  },
  {
   "cell_type": "code",
   "execution_count": 9,
   "id": "19f1ed03",
   "metadata": {},
   "outputs": [
    {
     "name": "stdout",
     "output_type": "stream",
     "text": [
      "<class 'pandas.core.frame.DataFrame'>\n",
      "RangeIndex: 1030 entries, 0 to 1029\n",
      "Data columns (total 9 columns):\n",
      " #   Column                         Non-Null Count  Dtype  \n",
      "---  ------                         --------------  -----  \n",
      " 0   cement                         1030 non-null   float64\n",
      " 1   blast_furnace_slag             1030 non-null   float64\n",
      " 2   fly_ash                        1030 non-null   float64\n",
      " 3   water                          1030 non-null   float64\n",
      " 4   superplasticizer               1030 non-null   float64\n",
      " 5   coarse_aggregate               1030 non-null   float64\n",
      " 6   fine_aggregate                 1030 non-null   float64\n",
      " 7   age                            1030 non-null   int64  \n",
      " 8   concrete_compressive_strength  1030 non-null   float64\n",
      "dtypes: float64(8), int64(1)\n",
      "memory usage: 72.5 KB\n"
     ]
    }
   ],
   "source": [
    "data.info()"
   ]
  },
  {
   "cell_type": "code",
   "execution_count": 10,
   "id": "30ca589b",
   "metadata": {
    "scrolled": true
   },
   "outputs": [
    {
     "data": {
      "text/html": [
       "<div><div id=660e74e8-caea-487a-8837-bb9f3ff5d079 style=\"display:none; background-color:#9D6CFF; color:white; width:200px; height:30px; padding-left:5px; border-radius:4px; flex-direction:row; justify-content:space-around; align-items:center;\" onmouseover=\"this.style.backgroundColor='#BA9BF8'\" onmouseout=\"this.style.backgroundColor='#9D6CFF'\" onclick=\"window.commands?.execute('create-mitosheet-from-dataframe-output');\">See Full Dataframe in Mito</div> <script> if (window.commands.hasCommand('create-mitosheet-from-dataframe-output')) document.getElementById('660e74e8-caea-487a-8837-bb9f3ff5d079').style.display = 'flex' </script> <table border=\"1\" class=\"dataframe\">\n",
       "  <thead>\n",
       "    <tr style=\"text-align: right;\">\n",
       "      <th></th>\n",
       "      <th>cement</th>\n",
       "      <th>blast_furnace_slag</th>\n",
       "      <th>fly_ash</th>\n",
       "      <th>water</th>\n",
       "      <th>superplasticizer</th>\n",
       "      <th>coarse_aggregate</th>\n",
       "      <th>fine_aggregate</th>\n",
       "      <th>age</th>\n",
       "      <th>concrete_compressive_strength</th>\n",
       "    </tr>\n",
       "  </thead>\n",
       "  <tbody>\n",
       "    <tr>\n",
       "      <th>count</th>\n",
       "      <td>1030.000000</td>\n",
       "      <td>1030.000000</td>\n",
       "      <td>1030.000000</td>\n",
       "      <td>1030.000000</td>\n",
       "      <td>1030.000000</td>\n",
       "      <td>1030.000000</td>\n",
       "      <td>1030.000000</td>\n",
       "      <td>1030.000000</td>\n",
       "      <td>1030.000000</td>\n",
       "    </tr>\n",
       "    <tr>\n",
       "      <th>mean</th>\n",
       "      <td>281.167864</td>\n",
       "      <td>73.895825</td>\n",
       "      <td>54.188350</td>\n",
       "      <td>181.567282</td>\n",
       "      <td>6.204660</td>\n",
       "      <td>972.918932</td>\n",
       "      <td>773.580485</td>\n",
       "      <td>45.662136</td>\n",
       "      <td>35.817961</td>\n",
       "    </tr>\n",
       "    <tr>\n",
       "      <th>std</th>\n",
       "      <td>104.506364</td>\n",
       "      <td>86.279342</td>\n",
       "      <td>63.997004</td>\n",
       "      <td>21.354219</td>\n",
       "      <td>5.973841</td>\n",
       "      <td>77.753954</td>\n",
       "      <td>80.175980</td>\n",
       "      <td>63.169912</td>\n",
       "      <td>16.705742</td>\n",
       "    </tr>\n",
       "    <tr>\n",
       "      <th>min</th>\n",
       "      <td>102.000000</td>\n",
       "      <td>0.000000</td>\n",
       "      <td>0.000000</td>\n",
       "      <td>121.800000</td>\n",
       "      <td>0.000000</td>\n",
       "      <td>801.000000</td>\n",
       "      <td>594.000000</td>\n",
       "      <td>1.000000</td>\n",
       "      <td>2.330000</td>\n",
       "    </tr>\n",
       "    <tr>\n",
       "      <th>25%</th>\n",
       "      <td>192.375000</td>\n",
       "      <td>0.000000</td>\n",
       "      <td>0.000000</td>\n",
       "      <td>164.900000</td>\n",
       "      <td>0.000000</td>\n",
       "      <td>932.000000</td>\n",
       "      <td>730.950000</td>\n",
       "      <td>7.000000</td>\n",
       "      <td>23.710000</td>\n",
       "    </tr>\n",
       "    <tr>\n",
       "      <th>50%</th>\n",
       "      <td>272.900000</td>\n",
       "      <td>22.000000</td>\n",
       "      <td>0.000000</td>\n",
       "      <td>185.000000</td>\n",
       "      <td>6.400000</td>\n",
       "      <td>968.000000</td>\n",
       "      <td>779.500000</td>\n",
       "      <td>28.000000</td>\n",
       "      <td>34.445000</td>\n",
       "    </tr>\n",
       "    <tr>\n",
       "      <th>75%</th>\n",
       "      <td>350.000000</td>\n",
       "      <td>142.950000</td>\n",
       "      <td>118.300000</td>\n",
       "      <td>192.000000</td>\n",
       "      <td>10.200000</td>\n",
       "      <td>1029.400000</td>\n",
       "      <td>824.000000</td>\n",
       "      <td>56.000000</td>\n",
       "      <td>46.135000</td>\n",
       "    </tr>\n",
       "    <tr>\n",
       "      <th>max</th>\n",
       "      <td>540.000000</td>\n",
       "      <td>359.400000</td>\n",
       "      <td>200.100000</td>\n",
       "      <td>247.000000</td>\n",
       "      <td>32.200000</td>\n",
       "      <td>1145.000000</td>\n",
       "      <td>992.600000</td>\n",
       "      <td>365.000000</td>\n",
       "      <td>82.600000</td>\n",
       "    </tr>\n",
       "  </tbody>\n",
       "</table></div>"
      ],
      "text/plain": [
       "            cement  blast_furnace_slag      fly_ash        water  \\\n",
       "count  1030.000000         1030.000000  1030.000000  1030.000000   \n",
       "mean    281.167864           73.895825    54.188350   181.567282   \n",
       "std     104.506364           86.279342    63.997004    21.354219   \n",
       "min     102.000000            0.000000     0.000000   121.800000   \n",
       "25%     192.375000            0.000000     0.000000   164.900000   \n",
       "50%     272.900000           22.000000     0.000000   185.000000   \n",
       "75%     350.000000          142.950000   118.300000   192.000000   \n",
       "max     540.000000          359.400000   200.100000   247.000000   \n",
       "\n",
       "       superplasticizer  coarse_aggregate  fine_aggregate           age  \\\n",
       "count       1030.000000       1030.000000      1030.000000  1030.000000   \n",
       "mean           6.204660        972.918932       773.580485    45.662136   \n",
       "std            5.973841         77.753954        80.175980    63.169912   \n",
       "min            0.000000        801.000000       594.000000     1.000000   \n",
       "25%            0.000000        932.000000       730.950000     7.000000   \n",
       "50%            6.400000        968.000000       779.500000    28.000000   \n",
       "75%           10.200000       1029.400000       824.000000    56.000000   \n",
       "max           32.200000       1145.000000       992.600000   365.000000   \n",
       "\n",
       "       concrete_compressive_strength  \n",
       "count                    1030.000000  \n",
       "mean                       35.817961  \n",
       "std                        16.705742  \n",
       "min                         2.330000  \n",
       "25%                        23.710000  \n",
       "50%                        34.445000  \n",
       "75%                        46.135000  \n",
       "max                        82.600000  "
      ]
     },
     "execution_count": 10,
     "metadata": {},
     "output_type": "execute_result"
    }
   ],
   "source": [
    "data.describe()"
   ]
  },
  {
   "cell_type": "code",
   "execution_count": 11,
   "id": "17c56171",
   "metadata": {
    "scrolled": true
   },
   "outputs": [
    {
     "data": {
      "text/plain": [
       "Index(['cement', 'blast_furnace_slag', 'fly_ash', 'water', 'superplasticizer',\n",
       "       'coarse_aggregate', 'fine_aggregate ', 'age',\n",
       "       'concrete_compressive_strength'],\n",
       "      dtype='object')"
      ]
     },
     "execution_count": 11,
     "metadata": {},
     "output_type": "execute_result"
    }
   ],
   "source": [
    "data.columns"
   ]
  },
  {
   "cell_type": "markdown",
   "id": "b0dd4163",
   "metadata": {},
   "source": [
    "#### Here we see that there is an extra space in \"fine_aggregate\" so we remove it."
   ]
  },
  {
   "cell_type": "code",
   "execution_count": 12,
   "id": "ea5606e5",
   "metadata": {},
   "outputs": [
    {
     "name": "stderr",
     "output_type": "stream",
     "text": [
      "Removing extra space...\n"
     ]
    }
   ],
   "source": [
    "logging.warning(\"Removing extra space...\")"
   ]
  },
  {
   "cell_type": "code",
   "execution_count": 13,
   "id": "104fe80f",
   "metadata": {},
   "outputs": [],
   "source": [
    "data=raw_data.rename({\"fine_aggregate \":\"fine_aggregate\"},axis=1)"
   ]
  },
  {
   "cell_type": "code",
   "execution_count": 14,
   "id": "b192aed5",
   "metadata": {
    "scrolled": true
   },
   "outputs": [
    {
     "data": {
      "text/plain": [
       "Index(['cement', 'blast_furnace_slag', 'fly_ash', 'water', 'superplasticizer',\n",
       "       'coarse_aggregate', 'fine_aggregate', 'age',\n",
       "       'concrete_compressive_strength'],\n",
       "      dtype='object')"
      ]
     },
     "execution_count": 14,
     "metadata": {},
     "output_type": "execute_result"
    }
   ],
   "source": [
    "data.columns"
   ]
  },
  {
   "cell_type": "markdown",
   "id": "9388baa7",
   "metadata": {},
   "source": [
    "#### Here we define a function that shows the distribution of the features in the form of boxplot."
   ]
  },
  {
   "cell_type": "code",
   "execution_count": 15,
   "id": "2e70ced2",
   "metadata": {},
   "outputs": [
    {
     "name": "stderr",
     "output_type": "stream",
     "text": [
      "Analysing outliers...\n"
     ]
    }
   ],
   "source": [
    "logging.warning(\"Analysing outliers...\")"
   ]
  },
  {
   "cell_type": "code",
   "execution_count": 16,
   "id": "1581d43d",
   "metadata": {},
   "outputs": [
    {
     "name": "stderr",
     "output_type": "stream",
     "text": [
      "Initialising boxplot...\n"
     ]
    }
   ],
   "source": [
    "logging.warning(\"Initialising boxplot...\")"
   ]
  },
  {
   "cell_type": "code",
   "execution_count": 17,
   "id": "03dca447",
   "metadata": {},
   "outputs": [
    {
     "name": "stderr",
     "output_type": "stream",
     "text": [
      "Assigning dataframe...\n"
     ]
    }
   ],
   "source": [
    "logging.warning(\"Assigning dataframe...\")"
   ]
  },
  {
   "cell_type": "code",
   "execution_count": 18,
   "id": "15d2190d",
   "metadata": {},
   "outputs": [],
   "source": [
    "def outlier_graph(data,column):\n",
    "    plt.figure(figsize=(5,3))\n",
    "    sns.boxplot(data[column])\n",
    "    plt.title(\"{} distribution\".format(column))"
   ]
  },
  {
   "cell_type": "code",
   "execution_count": 19,
   "id": "cd84b2fd",
   "metadata": {},
   "outputs": [
    {
     "name": "stderr",
     "output_type": "stream",
     "text": [
      "/Applications/anaconda3/lib/python3.8/site-packages/seaborn/_decorators.py:36: FutureWarning: Pass the following variable as a keyword arg: x. From version 0.12, the only valid positional argument will be `data`, and passing other arguments without an explicit keyword will result in an error or misinterpretation.\n",
      "  warnings.warn(\n",
      "/Applications/anaconda3/lib/python3.8/site-packages/seaborn/_decorators.py:36: FutureWarning: Pass the following variable as a keyword arg: x. From version 0.12, the only valid positional argument will be `data`, and passing other arguments without an explicit keyword will result in an error or misinterpretation.\n",
      "  warnings.warn(\n",
      "/Applications/anaconda3/lib/python3.8/site-packages/seaborn/_decorators.py:36: FutureWarning: Pass the following variable as a keyword arg: x. From version 0.12, the only valid positional argument will be `data`, and passing other arguments without an explicit keyword will result in an error or misinterpretation.\n",
      "  warnings.warn(\n",
      "/Applications/anaconda3/lib/python3.8/site-packages/seaborn/_decorators.py:36: FutureWarning: Pass the following variable as a keyword arg: x. From version 0.12, the only valid positional argument will be `data`, and passing other arguments without an explicit keyword will result in an error or misinterpretation.\n",
      "  warnings.warn(\n",
      "/Applications/anaconda3/lib/python3.8/site-packages/seaborn/_decorators.py:36: FutureWarning: Pass the following variable as a keyword arg: x. From version 0.12, the only valid positional argument will be `data`, and passing other arguments without an explicit keyword will result in an error or misinterpretation.\n",
      "  warnings.warn(\n",
      "/Applications/anaconda3/lib/python3.8/site-packages/seaborn/_decorators.py:36: FutureWarning: Pass the following variable as a keyword arg: x. From version 0.12, the only valid positional argument will be `data`, and passing other arguments without an explicit keyword will result in an error or misinterpretation.\n",
      "  warnings.warn(\n",
      "/Applications/anaconda3/lib/python3.8/site-packages/seaborn/_decorators.py:36: FutureWarning: Pass the following variable as a keyword arg: x. From version 0.12, the only valid positional argument will be `data`, and passing other arguments without an explicit keyword will result in an error or misinterpretation.\n",
      "  warnings.warn(\n",
      "/Applications/anaconda3/lib/python3.8/site-packages/seaborn/_decorators.py:36: FutureWarning: Pass the following variable as a keyword arg: x. From version 0.12, the only valid positional argument will be `data`, and passing other arguments without an explicit keyword will result in an error or misinterpretation.\n",
      "  warnings.warn(\n",
      "/Applications/anaconda3/lib/python3.8/site-packages/seaborn/_decorators.py:36: FutureWarning: Pass the following variable as a keyword arg: x. From version 0.12, the only valid positional argument will be `data`, and passing other arguments without an explicit keyword will result in an error or misinterpretation.\n",
      "  warnings.warn(\n"
     ]
    },
    {
     "data": {
      "image/png": "[encoded data removed]",
      "text/plain": [
       "<Figure size 360x216 with 1 Axes>"
      ]
     },
     "metadata": {},
     "output_type": "display_data"
    },
    {
     "data": {
      "image/png": "[encoded data removed]",
      "text/plain": [
       "<Figure size 360x216 with 1 Axes>"
      ]
     },
     "metadata": {},
     "output_type": "display_data"
    },
    {
     "data": {
      "image/png": "[encoded data removed]",
      "text/plain": [
       "<Figure size 360x216 with 1 Axes>"
      ]
     },
     "metadata": {},
     "output_type": "display_data"
    },
    {
     "data": {
      "image/png": "[encoded data removed]",
      "text/plain": [
       "<Figure size 360x216 with 1 Axes>"
      ]
     },
     "metadata": {},
     "output_type": "display_data"
    },
    {
     "data": {
      "image/png": "[encoded data removed]",
      "text/plain": [
       "<Figure size 360x216 with 1 Axes>"
      ]
     },
     "metadata": {},
     "output_type": "display_data"
    },
    {
     "data": {
      "image/png": "[encoded data removed]",
      "text/plain": [
       "<Figure size 360x216 with 1 Axes>"
      ]
     },
     "metadata": {},
     "output_type": "display_data"
    },
    {
     "data": {
      "image/png": "[encoded data removed]",
      "text/plain": [
       "<Figure size 360x216 with 1 Axes>"
      ]
     },
     "metadata": {},
     "output_type": "display_data"
    },
    {
     "data": {
      "image/png": "[encoded data removed]",
      "text/plain": [
       "<Figure size 360x216 with 1 Axes>"
      ]
     },
     "metadata": {},
     "output_type": "display_data"
    },
    {
     "data": {
      "image/png": "[encoded data removed]",
      "text/plain": [
       "<Figure size 360x216 with 1 Axes>"
      ]
     },
     "metadata": {},
     "output_type": "display_data"
    }
   ],
   "source": [
    "for i in raw_data.columns:\n",
    "    outlier_graph(raw_data,i)"
   ]
  },
  {
   "cell_type": "code",
   "execution_count": 20,
   "id": "0300d684",
   "metadata": {},
   "outputs": [
    {
     "name": "stderr",
     "output_type": "stream",
     "text": [
      "Successfully completed\n"
     ]
    }
   ],
   "source": [
    "logging.warning(\"Successfully completed\")"
   ]
  },
  {
   "cell_type": "markdown",
   "id": "d212e061",
   "metadata": {},
   "source": [
    "## A heatmap to analyse corellation between features and remove them if needed."
   ]
  },
  {
   "cell_type": "code",
   "execution_count": 21,
   "id": "ffbf52b1",
   "metadata": {},
   "outputs": [
    {
     "name": "stderr",
     "output_type": "stream",
     "text": [
      "Heatmap to analyse correlation...\n"
     ]
    }
   ],
   "source": [
    "logging.warning(\"Heatmap to analyse correlation...\")"
   ]
  },
  {
   "cell_type": "code",
   "execution_count": 22,
   "id": "d601d254",
   "metadata": {},
   "outputs": [
    {
     "name": "stderr",
     "output_type": "stream",
     "text": [
      "Assigning dataframe to heatmap...\n"
     ]
    }
   ],
   "source": [
    "logging.warning(\"Assigning dataframe to heatmap...\")"
   ]
  },
  {
   "cell_type": "code",
   "execution_count": 23,
   "id": "a2bc6613",
   "metadata": {},
   "outputs": [
    {
     "data": {
      "text/plain": [
       "<AxesSubplot:>"
      ]
     },
     "execution_count": 23,
     "metadata": {},
     "output_type": "execute_result"
    },
    {
     "data": {
      "image/png": "[encoded data removed]",
      "text/plain": [
       "<Figure size 720x720 with 2 Axes>"
      ]
     },
     "metadata": {},
     "output_type": "display_data"
    }
   ],
   "source": [
    "plt.figure(figsize=(10,10))\n",
    "sns.heatmap(data.corr(),annot=True)"
   ]
  },
  {
   "cell_type": "code",
   "execution_count": 24,
   "id": "d3738de4",
   "metadata": {},
   "outputs": [
    {
     "name": "stderr",
     "output_type": "stream",
     "text": [
      "Successfully completed\n"
     ]
    }
   ],
   "source": [
    "logging.warning(\"Successfully completed\")"
   ]
  },
  {
   "cell_type": "code",
   "execution_count": 25,
   "id": "4a487769",
   "metadata": {},
   "outputs": [
    {
     "name": "stderr",
     "output_type": "stream",
     "text": [
      "Dropping fly_ash and water attributes...\n"
     ]
    }
   ],
   "source": [
    "logging.warning(\"Dropping fly_ash and water attributes...\")"
   ]
  },
  {
   "cell_type": "code",
   "execution_count": 26,
   "id": "851cae13",
   "metadata": {},
   "outputs": [],
   "source": [
    "data.drop([\"fly_ash\"],axis=1,inplace=True)"
   ]
  },
  {
   "cell_type": "code",
   "execution_count": 27,
   "id": "c9102870",
   "metadata": {},
   "outputs": [],
   "source": [
    "data.drop([\"water\"],axis=1,inplace=True)"
   ]
  },
  {
   "cell_type": "code",
   "execution_count": 28,
   "id": "3bd2251c",
   "metadata": {},
   "outputs": [
    {
     "name": "stderr",
     "output_type": "stream",
     "text": [
      "Successfully completed\n"
     ]
    }
   ],
   "source": [
    "logging.warning(\"Successfully completed\")"
   ]
  },
  {
   "cell_type": "code",
   "execution_count": 29,
   "id": "0df80770",
   "metadata": {
    "scrolled": true
   },
   "outputs": [
    {
     "data": {
      "text/html": [
       "<div><div id=ca9ea50e-a8b2-4fbd-a240-0cd70ae4f978 style=\"display:none; background-color:#9D6CFF; color:white; width:200px; height:30px; padding-left:5px; border-radius:4px; flex-direction:row; justify-content:space-around; align-items:center;\" onmouseover=\"this.style.backgroundColor='#BA9BF8'\" onmouseout=\"this.style.backgroundColor='#9D6CFF'\" onclick=\"window.commands?.execute('create-mitosheet-from-dataframe-output');\">See Full Dataframe in Mito</div> <script> if (window.commands.hasCommand('create-mitosheet-from-dataframe-output')) document.getElementById('ca9ea50e-a8b2-4fbd-a240-0cd70ae4f978').style.display = 'flex' </script> <table border=\"1\" class=\"dataframe\">\n",
       "  <thead>\n",
       "    <tr style=\"text-align: right;\">\n",
       "      <th></th>\n",
       "      <th>cement</th>\n",
       "      <th>blast_furnace_slag</th>\n",
       "      <th>superplasticizer</th>\n",
       "      <th>coarse_aggregate</th>\n",
       "      <th>fine_aggregate</th>\n",
       "      <th>age</th>\n",
       "      <th>concrete_compressive_strength</th>\n",
       "    </tr>\n",
       "  </thead>\n",
       "  <tbody>\n",
       "    <tr>\n",
       "      <th>0</th>\n",
       "      <td>540.0</td>\n",
       "      <td>0.0</td>\n",
       "      <td>2.5</td>\n",
       "      <td>1040.0</td>\n",
       "      <td>676.0</td>\n",
       "      <td>28</td>\n",
       "      <td>79.99</td>\n",
       "    </tr>\n",
       "    <tr>\n",
       "      <th>1</th>\n",
       "      <td>540.0</td>\n",
       "      <td>0.0</td>\n",
       "      <td>2.5</td>\n",
       "      <td>1055.0</td>\n",
       "      <td>676.0</td>\n",
       "      <td>28</td>\n",
       "      <td>61.89</td>\n",
       "    </tr>\n",
       "    <tr>\n",
       "      <th>2</th>\n",
       "      <td>332.5</td>\n",
       "      <td>142.5</td>\n",
       "      <td>0.0</td>\n",
       "      <td>932.0</td>\n",
       "      <td>594.0</td>\n",
       "      <td>270</td>\n",
       "      <td>40.27</td>\n",
       "    </tr>\n",
       "    <tr>\n",
       "      <th>3</th>\n",
       "      <td>332.5</td>\n",
       "      <td>142.5</td>\n",
       "      <td>0.0</td>\n",
       "      <td>932.0</td>\n",
       "      <td>594.0</td>\n",
       "      <td>365</td>\n",
       "      <td>41.05</td>\n",
       "    </tr>\n",
       "    <tr>\n",
       "      <th>4</th>\n",
       "      <td>198.6</td>\n",
       "      <td>132.4</td>\n",
       "      <td>0.0</td>\n",
       "      <td>978.4</td>\n",
       "      <td>825.5</td>\n",
       "      <td>360</td>\n",
       "      <td>44.30</td>\n",
       "    </tr>\n",
       "  </tbody>\n",
       "</table></div>"
      ],
      "text/plain": [
       "   cement  blast_furnace_slag  superplasticizer  coarse_aggregate  \\\n",
       "0   540.0                 0.0               2.5            1040.0   \n",
       "1   540.0                 0.0               2.5            1055.0   \n",
       "2   332.5               142.5               0.0             932.0   \n",
       "3   332.5               142.5               0.0             932.0   \n",
       "4   198.6               132.4               0.0             978.4   \n",
       "\n",
       "   fine_aggregate  age  concrete_compressive_strength  \n",
       "0           676.0   28                          79.99  \n",
       "1           676.0   28                          61.89  \n",
       "2           594.0  270                          40.27  \n",
       "3           594.0  365                          41.05  \n",
       "4           825.5  360                          44.30  "
      ]
     },
     "execution_count": 29,
     "metadata": {},
     "output_type": "execute_result"
    }
   ],
   "source": [
    "data.head()"
   ]
  },
  {
   "cell_type": "markdown",
   "id": "b95221c3",
   "metadata": {},
   "source": [
    "## Declare variables"
   ]
  },
  {
   "cell_type": "code",
   "execution_count": 30,
   "id": "6c765354",
   "metadata": {},
   "outputs": [
    {
     "name": "stderr",
     "output_type": "stream",
     "text": [
      "Declaring variables...\n"
     ]
    }
   ],
   "source": [
    "logging.warning(\"Declaring variables...\")"
   ]
  },
  {
   "cell_type": "code",
   "execution_count": 31,
   "id": "bc5b6987",
   "metadata": {},
   "outputs": [],
   "source": [
    "y = data['concrete_compressive_strength']\n",
    "x=data.drop(['concrete_compressive_strength'],axis=1)"
   ]
  },
  {
   "cell_type": "code",
   "execution_count": 32,
   "id": "b6635f6a",
   "metadata": {},
   "outputs": [
    {
     "name": "stderr",
     "output_type": "stream",
     "text": [
      "Successfully completed\n"
     ]
    }
   ],
   "source": [
    "logging.warning(\"Successfully completed\")"
   ]
  },
  {
   "cell_type": "code",
   "execution_count": 33,
   "id": "f9dd7e91",
   "metadata": {},
   "outputs": [
    {
     "name": "stderr",
     "output_type": "stream",
     "text": [
      "Successfully completed\n"
     ]
    }
   ],
   "source": [
    "logging.warning(\"Successfully completed\")"
   ]
  },
  {
   "cell_type": "markdown",
   "id": "37713e5b",
   "metadata": {},
   "source": [
    "## Train - test split"
   ]
  },
  {
   "cell_type": "code",
   "execution_count": 34,
   "id": "5108e307",
   "metadata": {},
   "outputs": [
    {
     "name": "stderr",
     "output_type": "stream",
     "text": [
      "Splitting the dataset...\n"
     ]
    }
   ],
   "source": [
    "logging.warning(\"Splitting the dataset...\")"
   ]
  },
  {
   "cell_type": "code",
   "execution_count": 35,
   "id": "4a21c674",
   "metadata": {
    "scrolled": true
   },
   "outputs": [],
   "source": [
    "train_X, test_X, train_y, test_y = train_test_split(x, y,\n",
    "                      test_size = 0.3, random_state = 123)"
   ]
  },
  {
   "cell_type": "code",
   "execution_count": 36,
   "id": "f3b47a2e",
   "metadata": {},
   "outputs": [
    {
     "name": "stderr",
     "output_type": "stream",
     "text": [
      "Successfully completed\n"
     ]
    }
   ],
   "source": [
    "logging.warning(\"Successfully completed\")"
   ]
  },
  {
   "cell_type": "markdown",
   "id": "2a87b6cb",
   "metadata": {},
   "source": [
    "## Import libraries for ML algorithms"
   ]
  },
  {
   "cell_type": "code",
   "execution_count": 37,
   "id": "850e81b6",
   "metadata": {},
   "outputs": [
    {
     "name": "stderr",
     "output_type": "stream",
     "text": [
      "Import libraries for ML algorithms...\n"
     ]
    }
   ],
   "source": [
    "logging.warning(\"Import libraries for ML algorithms...\")"
   ]
  },
  {
   "cell_type": "code",
   "execution_count": 38,
   "id": "0b451702",
   "metadata": {},
   "outputs": [],
   "source": [
    "from sklearn.linear_model import LinearRegression,LogisticRegression\n",
    "from sklearn.preprocessing import PolynomialFeatures\n",
    "from sklearn.metrics import r2_score\n",
    "from sklearn.ensemble import RandomForestRegressor\n",
    "from sklearn.tree import DecisionTreeRegressor"
   ]
  },
  {
   "cell_type": "code",
   "execution_count": 39,
   "id": "035837d3",
   "metadata": {},
   "outputs": [
    {
     "name": "stderr",
     "output_type": "stream",
     "text": [
      "Successfully completed\n"
     ]
    }
   ],
   "source": [
    "logging.warning(\"Successfully completed\")"
   ]
  },
  {
   "cell_type": "markdown",
   "id": "9eceb455",
   "metadata": {},
   "source": [
    "## Analysing results on 3 different algorithms"
   ]
  },
  {
   "cell_type": "code",
   "execution_count": 40,
   "id": "7a09fd02",
   "metadata": {},
   "outputs": [
    {
     "name": "stderr",
     "output_type": "stream",
     "text": [
      "Analysing results on 3 different algorithms...\n"
     ]
    }
   ],
   "source": [
    "logging.warning(\"Analysing results on 3 different algorithms...\")"
   ]
  },
  {
   "cell_type": "code",
   "execution_count": 41,
   "id": "c5626ba2",
   "metadata": {},
   "outputs": [],
   "source": [
    "Model_Names=[\"Linear Regression\",\"Random Forest\",\"Decision Tree\"]\n",
    "Scores=[]"
   ]
  },
  {
   "cell_type": "code",
   "execution_count": 42,
   "id": "f2d6b044",
   "metadata": {},
   "outputs": [],
   "source": [
    "lr=LinearRegression()\n",
    "lr.fit(train_X,train_y)\n",
    "y_head=lr.predict(test_X)\n",
    "Scores.append(r2_score(test_y,y_head))"
   ]
  },
  {
   "cell_type": "code",
   "execution_count": 43,
   "id": "41325509",
   "metadata": {},
   "outputs": [],
   "source": [
    "rf=RandomForestRegressor(n_estimators=100,random_state=42)\n",
    "rf.fit(train_X,train_y)\n",
    "y_head=rf.predict(test_X)\n",
    "Scores.append(r2_score(test_y,y_head))"
   ]
  },
  {
   "cell_type": "code",
   "execution_count": 44,
   "id": "911e0fbb",
   "metadata": {},
   "outputs": [],
   "source": [
    "dt=DecisionTreeRegressor()\n",
    "dt.fit(train_X,train_y)\n",
    "y_head=dt.predict(test_X)\n",
    "Scores.append(r2_score(test_y,y_head))"
   ]
  },
  {
   "cell_type": "code",
   "execution_count": 45,
   "id": "dd285dfe",
   "metadata": {},
   "outputs": [
    {
     "name": "stderr",
     "output_type": "stream",
     "text": [
      "Successfully completed\n"
     ]
    }
   ],
   "source": [
    "logging.warning(\"Successfully completed\")"
   ]
  },
  {
   "cell_type": "markdown",
   "id": "cb0070de",
   "metadata": {},
   "source": [
    "## Graphical representation of their scores"
   ]
  },
  {
   "cell_type": "code",
   "execution_count": 46,
   "id": "abecbfda",
   "metadata": {},
   "outputs": [
    {
     "name": "stderr",
     "output_type": "stream",
     "text": [
      "Graphical representation of their scores...\n"
     ]
    }
   ],
   "source": [
    "logging.warning(\"Graphical representation of their scores...\")"
   ]
  },
  {
   "cell_type": "code",
   "execution_count": 47,
   "id": "56e6b312",
   "metadata": {
    "scrolled": false
   },
   "outputs": [
    {
     "data": {
      "text/plain": [
       "<AxesSubplot:xlabel='Models', ylabel='Scores'>"
      ]
     },
     "execution_count": 47,
     "metadata": {},
     "output_type": "execute_result"
    },
    {
     "data": {
      "image/png": "[encoded data removed]",
      "text/plain": [
       "<Figure size 720x432 with 1 Axes>"
      ]
     },
     "metadata": {},
     "output_type": "display_data"
    }
   ],
   "source": [
    "graph_data= pd.DataFrame(list(zip(Model_Names,Scores)),columns =['Models', 'Scores']) \n",
    "plt.figure(figsize=(10,6))\n",
    "sns.barplot(x=graph_data[\"Models\"],y=graph_data[\"Scores\"])"
   ]
  },
  {
   "cell_type": "code",
   "execution_count": 48,
   "id": "01c7cba9",
   "metadata": {},
   "outputs": [
    {
     "name": "stderr",
     "output_type": "stream",
     "text": [
      "Successfully completed\n"
     ]
    }
   ],
   "source": [
    "logging.warning(\"Successfully completed\")"
   ]
  },
  {
   "cell_type": "code",
   "execution_count": 49,
   "id": "6d9785a3",
   "metadata": {},
   "outputs": [
    {
     "name": "stderr",
     "output_type": "stream",
     "text": [
      "Score: 0.8756119960032229\n"
     ]
    }
   ],
   "source": [
    "logging.warning(\"Score: 0.8756119960032229\")"
   ]
  },
  {
   "cell_type": "code",
   "execution_count": 50,
   "id": "add47dc1",
   "metadata": {},
   "outputs": [
    {
     "data": {
      "text/plain": [
       "[0.5114701330836156, 0.8756119960032229, 0.7575893601155754]"
      ]
     },
     "execution_count": 50,
     "metadata": {},
     "output_type": "execute_result"
    }
   ],
   "source": [
    "Scores"
   ]
  },
  {
   "cell_type": "markdown",
   "id": "a6c58292",
   "metadata": {},
   "source": [
    "#### It seems that Random forest regressor yields most accurate results so we are going to use that."
   ]
  },
  {
   "cell_type": "code",
   "execution_count": 51,
   "id": "1ddda76b",
   "metadata": {},
   "outputs": [
    {
     "name": "stderr",
     "output_type": "stream",
     "text": [
      "Initialising random forest regressor...\n"
     ]
    }
   ],
   "source": [
    "logging.warning(\"Initialising random forest regressor...\")"
   ]
  },
  {
   "cell_type": "code",
   "execution_count": 52,
   "id": "24039c6e",
   "metadata": {},
   "outputs": [],
   "source": [
    "regr = RandomForestRegressor()"
   ]
  },
  {
   "cell_type": "code",
   "execution_count": 53,
   "id": "5eb39f46",
   "metadata": {},
   "outputs": [
    {
     "name": "stderr",
     "output_type": "stream",
     "text": [
      "Fitting train-test data...\n"
     ]
    }
   ],
   "source": [
    "logging.warning(\"Fitting train-test data...\")"
   ]
  },
  {
   "cell_type": "code",
   "execution_count": 54,
   "id": "f394ef64",
   "metadata": {},
   "outputs": [
    {
     "data": {
      "text/plain": [
       "RandomForestRegressor(bootstrap=True, ccp_alpha=0.0, criterion='mse',\n",
       "                      max_depth=None, max_features='auto', max_leaf_nodes=None,\n",
       "                      max_samples=None, min_impurity_decrease=0.0,\n",
       "                      min_impurity_split=None, min_samples_leaf=1,\n",
       "                      min_samples_split=2, min_weight_fraction_leaf=0.0,\n",
       "                      n_estimators=100, n_jobs=None, oob_score=False,\n",
       "                      random_state=None, verbose=0, warm_start=False)"
      ]
     },
     "execution_count": 54,
     "metadata": {},
     "output_type": "execute_result"
    }
   ],
   "source": [
    "regr.fit(train_X,train_y)"
   ]
  },
  {
   "cell_type": "code",
   "execution_count": 55,
   "id": "db70469c",
   "metadata": {},
   "outputs": [
    {
     "name": "stderr",
     "output_type": "stream",
     "text": [
      "Predicting test data...\n"
     ]
    }
   ],
   "source": [
    "logging.warning(\"Predicting test data...\")"
   ]
  },
  {
   "cell_type": "code",
   "execution_count": 56,
   "id": "01c4541d",
   "metadata": {},
   "outputs": [],
   "source": [
    "predictions=regr.predict(test_X)"
   ]
  },
  {
   "cell_type": "markdown",
   "id": "0a9dc5d0",
   "metadata": {},
   "source": [
    "## Comapring predictions with actual results"
   ]
  },
  {
   "cell_type": "code",
   "execution_count": 57,
   "id": "b3babb0b",
   "metadata": {},
   "outputs": [
    {
     "name": "stderr",
     "output_type": "stream",
     "text": [
      "Comapring predictions with actual results...\n"
     ]
    }
   ],
   "source": [
    "logging.warning(\"Comapring predictions with actual results...\")"
   ]
  },
  {
   "cell_type": "code",
   "execution_count": 58,
   "id": "61b4640f",
   "metadata": {},
   "outputs": [
    {
     "name": "stderr",
     "output_type": "stream",
     "text": [
      "Implimentng scatterplot...\n"
     ]
    }
   ],
   "source": [
    "logging.warning(\"Implimentng scatterplot...\")"
   ]
  },
  {
   "cell_type": "code",
   "execution_count": 59,
   "id": "5bb04c4f",
   "metadata": {},
   "outputs": [
    {
     "name": "stderr",
     "output_type": "stream",
     "text": [
      "/Applications/anaconda3/lib/python3.8/site-packages/seaborn/_decorators.py:36: FutureWarning: Pass the following variables as keyword args: x, y. From version 0.12, the only valid positional argument will be `data`, and passing other arguments without an explicit keyword will result in an error or misinterpretation.\n",
      "  warnings.warn(\n"
     ]
    },
    {
     "data": {
      "image/png": "[encoded data removed]",
      "text/plain": [
       "<Figure size 432x288 with 1 Axes>"
      ]
     },
     "metadata": {},
     "output_type": "display_data"
    },
    {
     "name": "stdout",
     "output_type": "stream",
     "text": [
      "Score : 0.8756119960032229\n"
     ]
    }
   ],
   "source": [
    "sns.scatterplot(test_y,predictions)\n",
    "plt.title('Actual vs Predictions',fontsize = 20)\n",
    "plt.xlabel('Actual',size=15)\n",
    "plt.ylabel('Predictions',size=15)\n",
    "plt.show()\n",
    "print(\"Score : \"+str(Scores[1]))"
   ]
  },
  {
   "cell_type": "code",
   "execution_count": 60,
   "id": "6120b5b8",
   "metadata": {},
   "outputs": [
    {
     "name": "stderr",
     "output_type": "stream",
     "text": [
      "Successfully completed\n"
     ]
    }
   ],
   "source": [
    "logging.warning(\"Successfully completed\")"
   ]
  },
  {
   "cell_type": "code",
   "execution_count": 61,
   "id": "0d2c1558",
   "metadata": {},
   "outputs": [
    {
     "name": "stderr",
     "output_type": "stream",
     "text": [
      "/Applications/anaconda3/lib/python3.8/site-packages/seaborn/distributions.py:2557: FutureWarning: `distplot` is a deprecated function and will be removed in a future version. Please adapt your code to use either `displot` (a figure-level function with similar flexibility) or `histplot` (an axes-level function for histograms).\n",
      "  warnings.warn(msg, FutureWarning)\n",
      "/Applications/anaconda3/lib/python3.8/site-packages/seaborn/distributions.py:2557: FutureWarning: `distplot` is a deprecated function and will be removed in a future version. Please adapt your code to use either `displot` (a figure-level function with similar flexibility) or `histplot` (an axes-level function for histograms).\n",
      "  warnings.warn(msg, FutureWarning)\n"
     ]
    },
    {
     "data": {
      "text/plain": [
       "<matplotlib.legend.Legend at 0x7feeafc893d0>"
      ]
     },
     "execution_count": 61,
     "metadata": {},
     "output_type": "execute_result"
    },
    {
     "data": {
      "image/png": "[encoded data removed]",
      "text/plain": [
       "<Figure size 432x288 with 1 Axes>"
      ]
     },
     "metadata": {},
     "output_type": "display_data"
    }
   ],
   "source": [
    "sns.distplot(y_head,label=\"Predicted\")\n",
    "sns.distplot(test_y,label=\"Real\")\n",
    "plt.legend()"
   ]
  },
  {
   "cell_type": "markdown",
   "id": "753496a0",
   "metadata": {},
   "source": [
    "#### Not the best model out there but seems workable."
   ]
  },
  {
   "cell_type": "markdown",
   "id": "e090b2bc",
   "metadata": {},
   "source": [
    "## Calculating avg. accuracy"
   ]
  },
  {
   "cell_type": "code",
   "execution_count": 62,
   "id": "3935e5c4",
   "metadata": {},
   "outputs": [
    {
     "data": {
      "text/plain": [
       "87.14390519405572"
      ]
     },
     "execution_count": 62,
     "metadata": {},
     "output_type": "execute_result"
    }
   ],
   "source": [
    "df = pd.DataFrame(columns = ['Actual', 'Predictions'])\n",
    "df['Actual'] = test_y\n",
    "df['Predictions'] = predictions\n",
    "df['Difference'] = abs(df['Predictions'] - df['Actual'])\n",
    "df['Accuracy%'] = 100-df['Difference']/df['Actual']*100\n",
    "sum=0\n",
    "for i in df['Accuracy%']:\n",
    "    sum+=i \n",
    "avg_acc = sum/df.shape[0]\n",
    "avg_acc"
   ]
  },
  {
   "cell_type": "markdown",
   "id": "274be7fe",
   "metadata": {},
   "source": [
    "## Manual testing"
   ]
  },
  {
   "cell_type": "code",
   "execution_count": 63,
   "id": "a3b34e25",
   "metadata": {},
   "outputs": [
    {
     "name": "stderr",
     "output_type": "stream",
     "text": [
      "Manual testing...\n"
     ]
    }
   ],
   "source": [
    "logging.warning(\"Manual testing...\")"
   ]
  },
  {
   "cell_type": "code",
   "execution_count": 64,
   "id": "266c06ee",
   "metadata": {
    "scrolled": true
   },
   "outputs": [
    {
     "data": {
      "text/html": [
       "<div><div id=efce507f-1ef1-4a59-aae5-1001290e38aa style=\"display:none; background-color:#9D6CFF; color:white; width:200px; height:30px; padding-left:5px; border-radius:4px; flex-direction:row; justify-content:space-around; align-items:center;\" onmouseover=\"this.style.backgroundColor='#BA9BF8'\" onmouseout=\"this.style.backgroundColor='#9D6CFF'\" onclick=\"window.commands?.execute('create-mitosheet-from-dataframe-output');\">See Full Dataframe in Mito</div> <script> if (window.commands.hasCommand('create-mitosheet-from-dataframe-output')) document.getElementById('efce507f-1ef1-4a59-aae5-1001290e38aa').style.display = 'flex' </script> <table border=\"1\" class=\"dataframe\">\n",
       "  <thead>\n",
       "    <tr style=\"text-align: right;\">\n",
       "      <th></th>\n",
       "      <th>cement</th>\n",
       "      <th>blast_furnace_slag</th>\n",
       "      <th>superplasticizer</th>\n",
       "      <th>coarse_aggregate</th>\n",
       "      <th>fine_aggregate</th>\n",
       "      <th>age</th>\n",
       "      <th>concrete_compressive_strength</th>\n",
       "    </tr>\n",
       "  </thead>\n",
       "  <tbody>\n",
       "    <tr>\n",
       "      <th>0</th>\n",
       "      <td>540.0</td>\n",
       "      <td>0.0</td>\n",
       "      <td>2.5</td>\n",
       "      <td>1040.0</td>\n",
       "      <td>676.0</td>\n",
       "      <td>28</td>\n",
       "      <td>79.99</td>\n",
       "    </tr>\n",
       "    <tr>\n",
       "      <th>1</th>\n",
       "      <td>540.0</td>\n",
       "      <td>0.0</td>\n",
       "      <td>2.5</td>\n",
       "      <td>1055.0</td>\n",
       "      <td>676.0</td>\n",
       "      <td>28</td>\n",
       "      <td>61.89</td>\n",
       "    </tr>\n",
       "    <tr>\n",
       "      <th>2</th>\n",
       "      <td>332.5</td>\n",
       "      <td>142.5</td>\n",
       "      <td>0.0</td>\n",
       "      <td>932.0</td>\n",
       "      <td>594.0</td>\n",
       "      <td>270</td>\n",
       "      <td>40.27</td>\n",
       "    </tr>\n",
       "    <tr>\n",
       "      <th>3</th>\n",
       "      <td>332.5</td>\n",
       "      <td>142.5</td>\n",
       "      <td>0.0</td>\n",
       "      <td>932.0</td>\n",
       "      <td>594.0</td>\n",
       "      <td>365</td>\n",
       "      <td>41.05</td>\n",
       "    </tr>\n",
       "    <tr>\n",
       "      <th>4</th>\n",
       "      <td>198.6</td>\n",
       "      <td>132.4</td>\n",
       "      <td>0.0</td>\n",
       "      <td>978.4</td>\n",
       "      <td>825.5</td>\n",
       "      <td>360</td>\n",
       "      <td>44.30</td>\n",
       "    </tr>\n",
       "  </tbody>\n",
       "</table></div>"
      ],
      "text/plain": [
       "   cement  blast_furnace_slag  superplasticizer  coarse_aggregate  \\\n",
       "0   540.0                 0.0               2.5            1040.0   \n",
       "1   540.0                 0.0               2.5            1055.0   \n",
       "2   332.5               142.5               0.0             932.0   \n",
       "3   332.5               142.5               0.0             932.0   \n",
       "4   198.6               132.4               0.0             978.4   \n",
       "\n",
       "   fine_aggregate  age  concrete_compressive_strength  \n",
       "0           676.0   28                          79.99  \n",
       "1           676.0   28                          61.89  \n",
       "2           594.0  270                          40.27  \n",
       "3           594.0  365                          41.05  \n",
       "4           825.5  360                          44.30  "
      ]
     },
     "execution_count": 64,
     "metadata": {},
     "output_type": "execute_result"
    }
   ],
   "source": [
    "data.head()"
   ]
  },
  {
   "cell_type": "code",
   "execution_count": 65,
   "id": "08ca430e",
   "metadata": {},
   "outputs": [
    {
     "name": "stderr",
     "output_type": "stream",
     "text": [
      "Assigning manual input...\n"
     ]
    }
   ],
   "source": [
    "logging.warning(\"Assigning manual input...\")"
   ]
  },
  {
   "cell_type": "code",
   "execution_count": 66,
   "id": "8150d0d0",
   "metadata": {},
   "outputs": [],
   "source": [
    "inp = [332,142,0,930,595,365]"
   ]
  },
  {
   "cell_type": "code",
   "execution_count": 67,
   "id": "1d9f26fb",
   "metadata": {},
   "outputs": [
    {
     "name": "stderr",
     "output_type": "stream",
     "text": [
      "Predicting manual input...\n"
     ]
    }
   ],
   "source": [
    "logging.warning(\"Predicting manual input...\")"
   ]
  },
  {
   "cell_type": "code",
   "execution_count": 68,
   "id": "3af1e1de",
   "metadata": {},
   "outputs": [
    {
     "data": {
      "text/plain": [
       "array([40.8501])"
      ]
     },
     "execution_count": 68,
     "metadata": {},
     "output_type": "execute_result"
    }
   ],
   "source": [
    "regr.predict([inp])"
   ]
  },
  {
   "cell_type": "code",
   "execution_count": 69,
   "id": "b625a0dc",
   "metadata": {},
   "outputs": [
    {
     "name": "stderr",
     "output_type": "stream",
     "text": [
      "Successfully completed\n"
     ]
    }
   ],
   "source": [
    "logging.warning(\"Successfully completed\")"
   ]
  },
  {
   "cell_type": "markdown",
   "id": "03750802",
   "metadata": {},
   "source": [
    "## Pickling the model"
   ]
  },
  {
   "cell_type": "code",
   "execution_count": 70,
   "id": "e0408e39",
   "metadata": {},
   "outputs": [
    {
     "name": "stderr",
     "output_type": "stream",
     "text": [
      "Pickling the model...\n"
     ]
    }
   ],
   "source": [
    "logging.warning(\"Pickling the model...\")"
   ]
  },
  {
   "cell_type": "code",
   "execution_count": 71,
   "id": "939170e8",
   "metadata": {},
   "outputs": [],
   "source": [
    "import pickle\n",
    "pickle_out = open(\"strength.pkl\",\"wb\")\n",
    "pickle.dump(regr, pickle_out)\n",
    "pickle_out.close()"
   ]
  },
  {
   "cell_type": "code",
   "execution_count": 72,
   "id": "454c1029",
   "metadata": {},
   "outputs": [
    {
     "name": "stderr",
     "output_type": "stream",
     "text": [
      "Successfully completed\n"
     ]
    }
   ],
   "source": [
    "logging.warning(\"Successfully completed\")"
   ]
  }
 ],
 "metadata": {
  "interpreter": {
   "hash": "344443636c3027c5042750c9c609acdda283a9c43681b128a8c1053e7ad2aa7d"
  },
  "kernelspec": {
   "display_name": "Python 3",
   "language": "python",
   "name": "python3"
  },
  "language_info": {
   "codemirror_mode": {
    "name": "ipython",
    "version": 3
   },
   "file_extension": ".py",
   "mimetype": "text/x-python",
   "name": "python",
   "nbconvert_exporter": "python",
   "pygments_lexer": "ipython3",
   "version": "3.8.8"
  }
 },
 "nbformat": 4,
 "nbformat_minor": 5
}
